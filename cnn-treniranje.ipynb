{
 "cells": [
  {
   "cell_type": "code",
   "execution_count": 71,
   "metadata": {},
   "outputs": [],
   "source": [
    "import tensorflow as tf\n",
    "from keras import Sequential\n",
    "from keras.layers import Conv2D, MaxPooling2D, Dropout, Flatten, Dense\n",
    "from keras.preprocessing.image import ImageDataGenerator\n",
    "from keras.optimizers import Adam"
   ]
  },
  {
   "cell_type": "code",
   "execution_count": 72,
   "metadata": {},
   "outputs": [],
   "source": [
    "root = \".\"\n",
    "charsetpath = f\"{root}/character-dataset\""
   ]
  },
  {
   "cell_type": "code",
   "execution_count": 73,
   "metadata": {},
   "outputs": [],
   "source": [
    "model = Sequential()\n",
    "model.add(Conv2D(16, (22,22), input_shape=(28, 28, 3), activation='relu', padding='same'))\n",
    "model.add(Conv2D(32, (16,16), input_shape=(28, 28, 3), activation='relu', padding='same'))\n",
    "model.add(Conv2D(64, (8,8), input_shape=(28, 28, 3), activation='relu', padding='same'))\n",
    "model.add(Conv2D(64, (4,4), input_shape=(28, 28, 3), activation='relu', padding='same'))\n",
    "model.add(MaxPooling2D(pool_size=(4, 4)))\n",
    "model.add(Dropout(0.4))\n",
    "model.add(Flatten())\n",
    "model.add(Dense(128, activation='relu'))\n",
    "model.add(Dense(38, activation='softmax'))\n",
    "\n",
    "model.compile(optimizer=Adam(0.0001), loss=tf.keras.losses.SparseCategoricalCrossentropy(), metrics=[\"accuracy\"])"
   ]
  },
  {
   "cell_type": "code",
   "execution_count": 74,
   "metadata": {},
   "outputs": [
    {
     "name": "stdout",
     "output_type": "stream",
     "text": [
      "Found 912 images belonging to 38 classes.\n",
      "Found 228 images belonging to 38 classes.\n"
     ]
    }
   ],
   "source": [
    "train_datagen = ImageDataGenerator(rescale=1./255, width_shift_range=0.1, height_shift_range=0.1)\n",
    "trainset = train_datagen.flow_from_directory(\n",
    "        f\"{charsetpath}/train\",\n",
    "        target_size=(28,28),\n",
    "        batch_size=1,\n",
    "        class_mode='sparse')\n",
    "\n",
    "testset = train_datagen.flow_from_directory(\n",
    "        f\"{charsetpath}/val\",\n",
    "        target_size=(28,28),\n",
    "        class_mode='sparse')"
   ]
  },
  {
   "cell_type": "code",
   "execution_count": 75,
   "metadata": {},
   "outputs": [
    {
     "name": "stdout",
     "output_type": "stream",
     "text": [
      "Epoch 1/10\n"
     ]
    },
    {
     "name": "stderr",
     "output_type": "stream",
     "text": [
      "2023-07-26 18:22:04.858557: I tensorflow/core/common_runtime/executor.cc:1197] [/device:CPU:0] (DEBUG INFO) Executor start aborting (this does not indicate an error and you can ignore this message): INVALID_ARGUMENT: You must feed a value for placeholder tensor 'Placeholder/_0' with dtype int32\n",
      "\t [[{{node Placeholder/_0}}]]\n"
     ]
    },
    {
     "name": "stdout",
     "output_type": "stream",
     "text": [
      "909/912 [============================>.] - ETA: 0s - loss: 3.1908 - accuracy: 0.1386"
     ]
    },
    {
     "name": "stderr",
     "output_type": "stream",
     "text": [
      "2023-07-26 18:22:17.984897: I tensorflow/core/common_runtime/executor.cc:1197] [/device:CPU:0] (DEBUG INFO) Executor start aborting (this does not indicate an error and you can ignore this message): INVALID_ARGUMENT: You must feed a value for placeholder tensor 'Placeholder/_0' with dtype int32\n",
      "\t [[{{node Placeholder/_0}}]]\n"
     ]
    },
    {
     "name": "stdout",
     "output_type": "stream",
     "text": [
      "912/912 [==============================] - 14s 15ms/step - loss: 3.1867 - accuracy: 0.1393 - val_loss: 1.7840 - val_accuracy: 0.5088\n",
      "Epoch 2/10\n",
      "912/912 [==============================] - 14s 15ms/step - loss: 1.4057 - accuracy: 0.5844 - val_loss: 0.9739 - val_accuracy: 0.7193\n",
      "Epoch 3/10\n",
      "912/912 [==============================] - 14s 15ms/step - loss: 0.7198 - accuracy: 0.7939 - val_loss: 0.5504 - val_accuracy: 0.8377\n",
      "Epoch 4/10\n",
      "912/912 [==============================] - 14s 16ms/step - loss: 0.4319 - accuracy: 0.8739 - val_loss: 0.4499 - val_accuracy: 0.8640\n",
      "Epoch 5/10\n",
      "912/912 [==============================] - 14s 16ms/step - loss: 0.3709 - accuracy: 0.8827 - val_loss: 0.2293 - val_accuracy: 0.9254\n",
      "Epoch 6/10\n",
      "912/912 [==============================] - 14s 16ms/step - loss: 0.2668 - accuracy: 0.9145 - val_loss: 0.6031 - val_accuracy: 0.8684\n",
      "Epoch 7/10\n",
      "912/912 [==============================] - 14s 16ms/step - loss: 0.2638 - accuracy: 0.9211 - val_loss: 0.1657 - val_accuracy: 0.9474\n",
      "Epoch 8/10\n",
      "912/912 [==============================] - 15s 16ms/step - loss: 0.1777 - accuracy: 0.9419 - val_loss: 0.2287 - val_accuracy: 0.9211\n",
      "Epoch 9/10\n",
      "912/912 [==============================] - 14s 16ms/step - loss: 0.2054 - accuracy: 0.9342 - val_loss: 0.0704 - val_accuracy: 0.9737\n",
      "Epoch 10/10\n",
      "912/912 [==============================] - 15s 16ms/step - loss: 0.1230 - accuracy: 0.9583 - val_loss: 0.1563 - val_accuracy: 0.9693\n"
     ]
    }
   ],
   "source": [
    "history = model.fit(trainset, epochs=15, validation_data=testset)"
   ]
  },
  {
   "cell_type": "code",
   "execution_count": 76,
   "metadata": {},
   "outputs": [],
   "source": [
    "model.save(\"charnet.keras\")"
   ]
  }
 ],
 "metadata": {
  "kernelspec": {
   "display_name": "tablice5",
   "language": "python",
   "name": "python3"
  },
  "language_info": {
   "codemirror_mode": {
    "name": "ipython",
    "version": 3
   },
   "file_extension": ".py",
   "mimetype": "text/x-python",
   "name": "python",
   "nbconvert_exporter": "python",
   "pygments_lexer": "ipython3",
   "version": "3.10.10"
  },
  "orig_nbformat": 4
 },
 "nbformat": 4,
 "nbformat_minor": 2
}
